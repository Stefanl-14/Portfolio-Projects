{
 "cells": [
  {
   "cell_type": "markdown",
   "metadata": {},
   "source": [
    "Data Cleaning Pratice on Listings123 Dataset"
   ]
  },
  {
   "cell_type": "code",
   "execution_count": 276,
   "metadata": {},
   "outputs": [],
   "source": [
    "#import libraries\n",
    "\n",
    "import pandas as pd\n",
    "import numpy as np\n",
    "import matplotlib\n",
    "import matplotlib.pyplot as plt\n",
    "import seaborn as sns"
   ]
  },
  {
   "cell_type": "code",
   "execution_count": 277,
   "metadata": {},
   "outputs": [
    {
     "data": {
      "text/html": [
       "<div>\n",
       "<style scoped>\n",
       "    .dataframe tbody tr th:only-of-type {\n",
       "        vertical-align: middle;\n",
       "    }\n",
       "\n",
       "    .dataframe tbody tr th {\n",
       "        vertical-align: top;\n",
       "    }\n",
       "\n",
       "    .dataframe thead th {\n",
       "        text-align: right;\n",
       "    }\n",
       "</style>\n",
       "<table border=\"1\" class=\"dataframe\">\n",
       "  <thead>\n",
       "    <tr style=\"text-align: right;\">\n",
       "      <th></th>\n",
       "      <th>Unnamed: 0</th>\n",
       "      <th>Unnamed: 1</th>\n",
       "      <th>Unnamed: 2</th>\n",
       "      <th>Unnamed: 3</th>\n",
       "      <th>Unnamed: 4</th>\n",
       "      <th>Unnamed: 5</th>\n",
       "      <th>Unnamed: 6</th>\n",
       "      <th>Unnamed: 7</th>\n",
       "      <th>Unnamed: 8</th>\n",
       "      <th>Unnamed: 9</th>\n",
       "      <th>Unnamed: 10</th>\n",
       "      <th>Unnamed: 11</th>\n",
       "      <th>Unnamed: 12</th>\n",
       "      <th>Unnamed: 13</th>\n",
       "      <th>Unnamed: 14</th>\n",
       "    </tr>\n",
       "  </thead>\n",
       "  <tbody>\n",
       "    <tr>\n",
       "      <th>0</th>\n",
       "      <td>Host ID</td>\n",
       "      <td>City</td>\n",
       "      <td>State</td>\n",
       "      <td>Room Type</td>\n",
       "      <td>Bathrooms</td>\n",
       "      <td>Bedrooms</td>\n",
       "      <td>Beds</td>\n",
       "      <td>Bed Type</td>\n",
       "      <td>Amenities</td>\n",
       "      <td>Price</td>\n",
       "      <td>Cancellation Policy</td>\n",
       "      <td>Number of Reviews</td>\n",
       "      <td>Days Listed</td>\n",
       "      <td>Review Scores Location</td>\n",
       "      <td>Review Scores Value</td>\n",
       "    </tr>\n",
       "    <tr>\n",
       "      <th>1</th>\n",
       "      <td>NaN</td>\n",
       "      <td>NaN</td>\n",
       "      <td>NaN</td>\n",
       "      <td>NaN</td>\n",
       "      <td>NaN</td>\n",
       "      <td>NaN</td>\n",
       "      <td>NaN</td>\n",
       "      <td>NaN</td>\n",
       "      <td>NaN</td>\n",
       "      <td>NaN</td>\n",
       "      <td>NaN</td>\n",
       "      <td>NaN</td>\n",
       "      <td>NaN</td>\n",
       "      <td>NaN</td>\n",
       "      <td>NaN</td>\n",
       "    </tr>\n",
       "    <tr>\n",
       "      <th>2</th>\n",
       "      <td>16637009</td>\n",
       "      <td>Chicago</td>\n",
       "      <td>IL</td>\n",
       "      <td>Entire home/apt</td>\n",
       "      <td>1.5</td>\n",
       "      <td>3</td>\n",
       "      <td>3</td>\n",
       "      <td>Real Bed</td>\n",
       "      <td>TV,Cable TV,Internet,Wireless Internet,Air con...</td>\n",
       "      <td>235</td>\n",
       "      <td>moderate</td>\n",
       "      <td>46</td>\n",
       "      <td>714</td>\n",
       "      <td>10</td>\n",
       "      <td>10</td>\n",
       "    </tr>\n",
       "    <tr>\n",
       "      <th>3</th>\n",
       "      <td>31862615</td>\n",
       "      <td>Boston</td>\n",
       "      <td>MA</td>\n",
       "      <td>Shared room</td>\n",
       "      <td>1</td>\n",
       "      <td>1</td>\n",
       "      <td>1</td>\n",
       "      <td>Futon</td>\n",
       "      <td>Wireless Internet,Air Conditioning,Kitchen,Pet...</td>\n",
       "      <td>56</td>\n",
       "      <td>flexible</td>\n",
       "      <td>115</td>\n",
       "      <td>426</td>\n",
       "      <td>9</td>\n",
       "      <td>10</td>\n",
       "    </tr>\n",
       "  </tbody>\n",
       "</table>\n",
       "</div>"
      ],
      "text/plain": [
       "  Unnamed: 0 Unnamed: 1 Unnamed: 2       Unnamed: 3 Unnamed: 4 Unnamed: 5  \\\n",
       "0    Host ID       City      State        Room Type  Bathrooms   Bedrooms   \n",
       "1        NaN        NaN        NaN              NaN        NaN        NaN   \n",
       "2   16637009    Chicago         IL  Entire home/apt        1.5          3   \n",
       "3   31862615     Boston         MA      Shared room          1          1   \n",
       "\n",
       "  Unnamed: 6 Unnamed: 7                                         Unnamed: 8  \\\n",
       "0       Beds   Bed Type                                          Amenities   \n",
       "1        NaN        NaN                                                NaN   \n",
       "2          3   Real Bed  TV,Cable TV,Internet,Wireless Internet,Air con...   \n",
       "3          1      Futon  Wireless Internet,Air Conditioning,Kitchen,Pet...   \n",
       "\n",
       "  Unnamed: 9          Unnamed: 10        Unnamed: 11  Unnamed: 12  \\\n",
       "0      Price  Cancellation Policy  Number of Reviews  Days Listed   \n",
       "1        NaN                  NaN                NaN          NaN   \n",
       "2        235             moderate                 46          714   \n",
       "3         56             flexible                115          426   \n",
       "\n",
       "              Unnamed: 13          Unnamed: 14  \n",
       "0  Review Scores Location  Review Scores Value  \n",
       "1                     NaN                  NaN  \n",
       "2                      10                   10  \n",
       "3                       9                   10  "
      ]
     },
     "execution_count": 277,
     "metadata": {},
     "output_type": "execute_result"
    }
   ],
   "source": [
    "#Read in Data\n",
    "\n",
    "df = pd.read_excel(r\"C:\\Users\\stefa\\OneDrive\\Documents\\Pathstream Data Analytics Professional Certificate\\Business Analytics Fundamentals\\Listings123_Full_Data_Practice.xlsx\")\n",
    "df.head(4)"
   ]
  },
  {
   "cell_type": "code",
   "execution_count": 278,
   "metadata": {},
   "outputs": [
    {
     "data": {
      "text/html": [
       "<div>\n",
       "<style scoped>\n",
       "    .dataframe tbody tr th:only-of-type {\n",
       "        vertical-align: middle;\n",
       "    }\n",
       "\n",
       "    .dataframe tbody tr th {\n",
       "        vertical-align: top;\n",
       "    }\n",
       "\n",
       "    .dataframe thead th {\n",
       "        text-align: right;\n",
       "    }\n",
       "</style>\n",
       "<table border=\"1\" class=\"dataframe\">\n",
       "  <thead>\n",
       "    <tr style=\"text-align: right;\">\n",
       "      <th></th>\n",
       "      <th>Host ID</th>\n",
       "      <th>City</th>\n",
       "      <th>State</th>\n",
       "      <th>Room Type</th>\n",
       "      <th>Bathrooms</th>\n",
       "      <th>Bedrooms</th>\n",
       "      <th>Beds</th>\n",
       "      <th>Bed Type</th>\n",
       "      <th>Amenities</th>\n",
       "      <th>Price</th>\n",
       "      <th>Cancellation Policy</th>\n",
       "      <th>Number of Reviews</th>\n",
       "      <th>Days Listed</th>\n",
       "      <th>Review Scores Location</th>\n",
       "      <th>Review Scores Value</th>\n",
       "    </tr>\n",
       "  </thead>\n",
       "  <tbody>\n",
       "    <tr>\n",
       "      <th>1</th>\n",
       "      <td>NaN</td>\n",
       "      <td>NaN</td>\n",
       "      <td>NaN</td>\n",
       "      <td>NaN</td>\n",
       "      <td>NaN</td>\n",
       "      <td>NaN</td>\n",
       "      <td>NaN</td>\n",
       "      <td>NaN</td>\n",
       "      <td>NaN</td>\n",
       "      <td>NaN</td>\n",
       "      <td>NaN</td>\n",
       "      <td>NaN</td>\n",
       "      <td>NaN</td>\n",
       "      <td>NaN</td>\n",
       "      <td>NaN</td>\n",
       "    </tr>\n",
       "    <tr>\n",
       "      <th>2</th>\n",
       "      <td>16637009</td>\n",
       "      <td>Chicago</td>\n",
       "      <td>IL</td>\n",
       "      <td>Entire home/apt</td>\n",
       "      <td>1.5</td>\n",
       "      <td>3</td>\n",
       "      <td>3</td>\n",
       "      <td>Real Bed</td>\n",
       "      <td>TV,Cable TV,Internet,Wireless Internet,Air con...</td>\n",
       "      <td>235</td>\n",
       "      <td>moderate</td>\n",
       "      <td>46</td>\n",
       "      <td>714</td>\n",
       "      <td>10</td>\n",
       "      <td>10</td>\n",
       "    </tr>\n",
       "  </tbody>\n",
       "</table>\n",
       "</div>"
      ],
      "text/plain": [
       "0   Host ID     City State        Room Type Bathrooms Bedrooms Beds  Bed Type  \\\n",
       "1       NaN      NaN   NaN              NaN       NaN      NaN  NaN       NaN   \n",
       "2  16637009  Chicago    IL  Entire home/apt       1.5        3    3  Real Bed   \n",
       "\n",
       "0                                          Amenities Price  \\\n",
       "1                                                NaN   NaN   \n",
       "2  TV,Cable TV,Internet,Wireless Internet,Air con...   235   \n",
       "\n",
       "0 Cancellation Policy Number of Reviews Days Listed Review Scores Location  \\\n",
       "1                 NaN               NaN         NaN                    NaN   \n",
       "2            moderate                46         714                     10   \n",
       "\n",
       "0 Review Scores Value  \n",
       "1                 NaN  \n",
       "2                  10  "
      ]
     },
     "execution_count": 278,
     "metadata": {},
     "output_type": "execute_result"
    }
   ],
   "source": [
    "#Make first Row Headers\n",
    "\n",
    "df.columns = df.iloc[0] \n",
    "\n",
    "df = df[1:]\n",
    "\n",
    "df.head(2)"
   ]
  },
  {
   "cell_type": "code",
   "execution_count": 279,
   "metadata": {},
   "outputs": [
    {
     "data": {
      "text/html": [
       "<div>\n",
       "<style scoped>\n",
       "    .dataframe tbody tr th:only-of-type {\n",
       "        vertical-align: middle;\n",
       "    }\n",
       "\n",
       "    .dataframe tbody tr th {\n",
       "        vertical-align: top;\n",
       "    }\n",
       "\n",
       "    .dataframe thead th {\n",
       "        text-align: right;\n",
       "    }\n",
       "</style>\n",
       "<table border=\"1\" class=\"dataframe\">\n",
       "  <thead>\n",
       "    <tr style=\"text-align: right;\">\n",
       "      <th></th>\n",
       "      <th>Host ID</th>\n",
       "      <th>City</th>\n",
       "      <th>State</th>\n",
       "      <th>Room Type</th>\n",
       "      <th>Bathrooms</th>\n",
       "      <th>Bedrooms</th>\n",
       "      <th>Beds</th>\n",
       "      <th>Bed Type</th>\n",
       "      <th>Amenities</th>\n",
       "      <th>Price</th>\n",
       "      <th>Cancellation Policy</th>\n",
       "      <th>Number of Reviews</th>\n",
       "      <th>Days Listed</th>\n",
       "      <th>Review Scores Location</th>\n",
       "      <th>Review Scores Value</th>\n",
       "    </tr>\n",
       "  </thead>\n",
       "  <tbody>\n",
       "    <tr>\n",
       "      <th>2</th>\n",
       "      <td>16637009</td>\n",
       "      <td>Chicago</td>\n",
       "      <td>IL</td>\n",
       "      <td>Entire home/apt</td>\n",
       "      <td>1.5</td>\n",
       "      <td>3</td>\n",
       "      <td>3</td>\n",
       "      <td>Real Bed</td>\n",
       "      <td>TV,Cable TV,Internet,Wireless Internet,Air con...</td>\n",
       "      <td>235</td>\n",
       "      <td>moderate</td>\n",
       "      <td>46</td>\n",
       "      <td>714</td>\n",
       "      <td>10</td>\n",
       "      <td>10</td>\n",
       "    </tr>\n",
       "    <tr>\n",
       "      <th>3</th>\n",
       "      <td>31862615</td>\n",
       "      <td>Boston</td>\n",
       "      <td>MA</td>\n",
       "      <td>Shared room</td>\n",
       "      <td>1</td>\n",
       "      <td>1</td>\n",
       "      <td>1</td>\n",
       "      <td>Futon</td>\n",
       "      <td>Wireless Internet,Air Conditioning,Kitchen,Pet...</td>\n",
       "      <td>56</td>\n",
       "      <td>flexible</td>\n",
       "      <td>115</td>\n",
       "      <td>426</td>\n",
       "      <td>9</td>\n",
       "      <td>10</td>\n",
       "    </tr>\n",
       "  </tbody>\n",
       "</table>\n",
       "</div>"
      ],
      "text/plain": [
       "0   Host ID     City State        Room Type Bathrooms Bedrooms Beds  Bed Type  \\\n",
       "2  16637009  Chicago    IL  Entire home/apt       1.5        3    3  Real Bed   \n",
       "3  31862615   Boston    MA      Shared room         1        1    1     Futon   \n",
       "\n",
       "0                                          Amenities Price  \\\n",
       "2  TV,Cable TV,Internet,Wireless Internet,Air con...   235   \n",
       "3  Wireless Internet,Air Conditioning,Kitchen,Pet...    56   \n",
       "\n",
       "0 Cancellation Policy Number of Reviews Days Listed Review Scores Location  \\\n",
       "2            moderate                46         714                     10   \n",
       "3            flexible               115         426                      9   \n",
       "\n",
       "0 Review Scores Value  \n",
       "2                  10  \n",
       "3                  10  "
      ]
     },
     "execution_count": 279,
     "metadata": {},
     "output_type": "execute_result"
    }
   ],
   "source": [
    "#Delete first empty row\n",
    "\n",
    "df.drop(index=1,inplace=True)\n",
    "df.head(2)"
   ]
  },
  {
   "cell_type": "code",
   "execution_count": 280,
   "metadata": {},
   "outputs": [],
   "source": [
    "#Drop duplicates\n",
    "\n",
    "df.drop_duplicates(inplace=True)"
   ]
  },
  {
   "cell_type": "code",
   "execution_count": 281,
   "metadata": {},
   "outputs": [
    {
     "data": {
      "text/plain": [
       "0\n",
       "Host ID                   object\n",
       "City                      object\n",
       "State                     object\n",
       "Room Type                 object\n",
       "Bathrooms                 object\n",
       "Bedrooms                  object\n",
       "Beds                      object\n",
       "Bed Type                  object\n",
       "Amenities                 object\n",
       "Price                     object\n",
       "Cancellation Policy       object\n",
       "Number of Reviews         object\n",
       "Days Listed               object\n",
       "Review Scores Location    object\n",
       "Review Scores Value       object\n",
       "dtype: object"
      ]
     },
     "execution_count": 281,
     "metadata": {},
     "output_type": "execute_result"
    }
   ],
   "source": [
    "df.dtypes"
   ]
  },
  {
   "cell_type": "code",
   "execution_count": 282,
   "metadata": {},
   "outputs": [
    {
     "data": {
      "text/plain": [
       "0\n",
       "Host ID                   False\n",
       "City                      False\n",
       "State                     False\n",
       "Room Type                 False\n",
       "Bathrooms                 False\n",
       "Bedrooms                  False\n",
       "Beds                      False\n",
       "Bed Type                  False\n",
       "Amenities                  True\n",
       "Price                     False\n",
       "Cancellation Policy       False\n",
       "Number of Reviews         False\n",
       "Days Listed               False\n",
       "Review Scores Location    False\n",
       "Review Scores Value       False\n",
       "dtype: bool"
      ]
     },
     "execution_count": 282,
     "metadata": {},
     "output_type": "execute_result"
    }
   ],
   "source": [
    "#Check for Null Values\n",
    "\n",
    "df.isnull().any()"
   ]
  },
  {
   "cell_type": "code",
   "execution_count": 283,
   "metadata": {},
   "outputs": [
    {
     "data": {
      "text/plain": [
       "0\n",
       "Host ID                   0.000000\n",
       "City                      0.000000\n",
       "State                     0.000000\n",
       "Room Type                 0.000000\n",
       "Bathrooms                 0.000000\n",
       "Bedrooms                  0.000000\n",
       "Beds                      0.000000\n",
       "Bed Type                  0.000000\n",
       "Amenities                 0.306306\n",
       "Price                     0.000000\n",
       "Cancellation Policy       0.000000\n",
       "Number of Reviews         0.000000\n",
       "Days Listed               0.000000\n",
       "Review Scores Location    0.000000\n",
       "Review Scores Value       0.000000\n",
       "dtype: float64"
      ]
     },
     "execution_count": 283,
     "metadata": {},
     "output_type": "execute_result"
    }
   ],
   "source": [
    "#Find the percentage of null values\n",
    "\n",
    "df.isnull().sum()/len(df)*100"
   ]
  },
  {
   "cell_type": "code",
   "execution_count": 284,
   "metadata": {},
   "outputs": [
    {
     "data": {
      "text/html": [
       "<div>\n",
       "<style scoped>\n",
       "    .dataframe tbody tr th:only-of-type {\n",
       "        vertical-align: middle;\n",
       "    }\n",
       "\n",
       "    .dataframe tbody tr th {\n",
       "        vertical-align: top;\n",
       "    }\n",
       "\n",
       "    .dataframe thead th {\n",
       "        text-align: right;\n",
       "    }\n",
       "</style>\n",
       "<table border=\"1\" class=\"dataframe\">\n",
       "  <thead>\n",
       "    <tr style=\"text-align: right;\">\n",
       "      <th></th>\n",
       "      <th>Host ID</th>\n",
       "      <th>City</th>\n",
       "      <th>State</th>\n",
       "      <th>Room Type</th>\n",
       "      <th>Bathrooms</th>\n",
       "      <th>Bedrooms</th>\n",
       "      <th>Beds</th>\n",
       "      <th>Bed Type</th>\n",
       "      <th>Amenities</th>\n",
       "      <th>Price</th>\n",
       "      <th>Cancellation Policy</th>\n",
       "      <th>Number of Reviews</th>\n",
       "      <th>Days Listed</th>\n",
       "      <th>Review Scores Location</th>\n",
       "      <th>Review Scores Value</th>\n",
       "    </tr>\n",
       "  </thead>\n",
       "  <tbody>\n",
       "    <tr>\n",
       "      <th>2</th>\n",
       "      <td>16637009</td>\n",
       "      <td>Chicago</td>\n",
       "      <td>IL</td>\n",
       "      <td>Entire home/apt</td>\n",
       "      <td>1.5</td>\n",
       "      <td>3</td>\n",
       "      <td>3</td>\n",
       "      <td>Real Bed</td>\n",
       "      <td>TV,Cable TV,Internet,Wireless Internet,Air con...</td>\n",
       "      <td>235</td>\n",
       "      <td>moderate</td>\n",
       "      <td>46</td>\n",
       "      <td>714</td>\n",
       "      <td>10</td>\n",
       "      <td>10</td>\n",
       "    </tr>\n",
       "    <tr>\n",
       "      <th>3</th>\n",
       "      <td>31862615</td>\n",
       "      <td>Boston</td>\n",
       "      <td>MA</td>\n",
       "      <td>Shared room</td>\n",
       "      <td>1</td>\n",
       "      <td>1</td>\n",
       "      <td>1</td>\n",
       "      <td>Futon</td>\n",
       "      <td>Wireless Internet,Air Conditioning,Kitchen,Pet...</td>\n",
       "      <td>56</td>\n",
       "      <td>flexible</td>\n",
       "      <td>115</td>\n",
       "      <td>426</td>\n",
       "      <td>9</td>\n",
       "      <td>10</td>\n",
       "    </tr>\n",
       "    <tr>\n",
       "      <th>4</th>\n",
       "      <td>10917089</td>\n",
       "      <td>Denver</td>\n",
       "      <td>CO</td>\n",
       "      <td>Entire home/apt</td>\n",
       "      <td>1</td>\n",
       "      <td>2</td>\n",
       "      <td>2</td>\n",
       "      <td>Real Bed</td>\n",
       "      <td>TV,Internet,Wireless Internet,Air Conditioning...</td>\n",
       "      <td>120</td>\n",
       "      <td>strict</td>\n",
       "      <td>113</td>\n",
       "      <td>798</td>\n",
       "      <td>10</td>\n",
       "      <td>10</td>\n",
       "    </tr>\n",
       "    <tr>\n",
       "      <th>5</th>\n",
       "      <td>42087695</td>\n",
       "      <td>New Orleans</td>\n",
       "      <td>LA</td>\n",
       "      <td>Entire home/apt</td>\n",
       "      <td>1</td>\n",
       "      <td>1</td>\n",
       "      <td>2</td>\n",
       "      <td>Real Bed</td>\n",
       "      <td>Internet,Wireless Internet,Air conditioning,Ki...</td>\n",
       "      <td>157</td>\n",
       "      <td>flexible</td>\n",
       "      <td>2</td>\n",
       "      <td>6</td>\n",
       "      <td>8</td>\n",
       "      <td>10</td>\n",
       "    </tr>\n",
       "    <tr>\n",
       "      <th>6</th>\n",
       "      <td>8752109</td>\n",
       "      <td>Portland</td>\n",
       "      <td>OR</td>\n",
       "      <td>Entire home/apt</td>\n",
       "      <td>1</td>\n",
       "      <td>1</td>\n",
       "      <td>1</td>\n",
       "      <td>Real Bed</td>\n",
       "      <td>TV,Cable TV,Internet,Wireless Internet,Air con...</td>\n",
       "      <td>135</td>\n",
       "      <td>moderate</td>\n",
       "      <td>30</td>\n",
       "      <td>1226</td>\n",
       "      <td>10</td>\n",
       "      <td>9</td>\n",
       "    </tr>\n",
       "    <tr>\n",
       "      <th>...</th>\n",
       "      <td>...</td>\n",
       "      <td>...</td>\n",
       "      <td>...</td>\n",
       "      <td>...</td>\n",
       "      <td>...</td>\n",
       "      <td>...</td>\n",
       "      <td>...</td>\n",
       "      <td>...</td>\n",
       "      <td>...</td>\n",
       "      <td>...</td>\n",
       "      <td>...</td>\n",
       "      <td>...</td>\n",
       "      <td>...</td>\n",
       "      <td>...</td>\n",
       "      <td>...</td>\n",
       "    </tr>\n",
       "    <tr>\n",
       "      <th>5547</th>\n",
       "      <td>2863418</td>\n",
       "      <td>San Diego</td>\n",
       "      <td>CA</td>\n",
       "      <td>Private room</td>\n",
       "      <td>1</td>\n",
       "      <td>1</td>\n",
       "      <td>2</td>\n",
       "      <td>Real Bed</td>\n",
       "      <td>TV,Cable TV,Internet,Wireless Internet,Air Con...</td>\n",
       "      <td>150</td>\n",
       "      <td>moderate</td>\n",
       "      <td>15</td>\n",
       "      <td>1103</td>\n",
       "      <td>10</td>\n",
       "      <td>10</td>\n",
       "    </tr>\n",
       "    <tr>\n",
       "      <th>5548</th>\n",
       "      <td>83107234</td>\n",
       "      <td>Boston</td>\n",
       "      <td>MA</td>\n",
       "      <td>Shared room</td>\n",
       "      <td>1</td>\n",
       "      <td>1</td>\n",
       "      <td>2</td>\n",
       "      <td>Real Bed</td>\n",
       "      <td>TV,Wireless Internet,Air Conditioning,Free Par...</td>\n",
       "      <td>45</td>\n",
       "      <td>strict</td>\n",
       "      <td>3</td>\n",
       "      <td>17</td>\n",
       "      <td>9</td>\n",
       "      <td>10</td>\n",
       "    </tr>\n",
       "    <tr>\n",
       "      <th>5549</th>\n",
       "      <td>66236551</td>\n",
       "      <td>Chicago</td>\n",
       "      <td>IL</td>\n",
       "      <td>Entire home/apt</td>\n",
       "      <td>1</td>\n",
       "      <td>2</td>\n",
       "      <td>4</td>\n",
       "      <td>Real Bed</td>\n",
       "      <td>TV,Wireless Internet,Air conditioning,Kitchen,...</td>\n",
       "      <td>129</td>\n",
       "      <td>strict</td>\n",
       "      <td>3</td>\n",
       "      <td>98</td>\n",
       "      <td>10</td>\n",
       "      <td>10</td>\n",
       "    </tr>\n",
       "    <tr>\n",
       "      <th>5550</th>\n",
       "      <td>11997337</td>\n",
       "      <td>Austin</td>\n",
       "      <td>TX</td>\n",
       "      <td>Entire home/apt</td>\n",
       "      <td>1</td>\n",
       "      <td>1</td>\n",
       "      <td>2</td>\n",
       "      <td>Real Bed</td>\n",
       "      <td>Wireless Internet,Air conditioning,Kitchen,Fre...</td>\n",
       "      <td>85</td>\n",
       "      <td>moderate</td>\n",
       "      <td>155</td>\n",
       "      <td>1092</td>\n",
       "      <td>10</td>\n",
       "      <td>10</td>\n",
       "    </tr>\n",
       "    <tr>\n",
       "      <th>5551</th>\n",
       "      <td>38690778</td>\n",
       "      <td>San Diego</td>\n",
       "      <td>CA</td>\n",
       "      <td>Entire home/apt</td>\n",
       "      <td>3.5</td>\n",
       "      <td>3</td>\n",
       "      <td>3</td>\n",
       "      <td>Real Bed</td>\n",
       "      <td>TV,Cable TV,Internet,Wireless Internet,Air Con...</td>\n",
       "      <td>250</td>\n",
       "      <td>super_strict_30</td>\n",
       "      <td>1</td>\n",
       "      <td>0</td>\n",
       "      <td>10</td>\n",
       "      <td>10</td>\n",
       "    </tr>\n",
       "  </tbody>\n",
       "</table>\n",
       "<p>5533 rows × 15 columns</p>\n",
       "</div>"
      ],
      "text/plain": [
       "0      Host ID         City State        Room Type Bathrooms Bedrooms Beds  \\\n",
       "2     16637009      Chicago    IL  Entire home/apt       1.5        3    3   \n",
       "3     31862615       Boston    MA      Shared room         1        1    1   \n",
       "4     10917089       Denver    CO  Entire home/apt         1        2    2   \n",
       "5     42087695  New Orleans    LA  Entire home/apt         1        1    2   \n",
       "6      8752109     Portland    OR  Entire home/apt         1        1    1   \n",
       "...        ...          ...   ...              ...       ...      ...  ...   \n",
       "5547   2863418    San Diego    CA     Private room         1        1    2   \n",
       "5548  83107234       Boston    MA      Shared room         1        1    2   \n",
       "5549  66236551      Chicago    IL  Entire home/apt         1        2    4   \n",
       "5550  11997337       Austin    TX  Entire home/apt         1        1    2   \n",
       "5551  38690778    San Diego    CA  Entire home/apt       3.5        3    3   \n",
       "\n",
       "0     Bed Type                                          Amenities Price  \\\n",
       "2     Real Bed  TV,Cable TV,Internet,Wireless Internet,Air con...   235   \n",
       "3        Futon  Wireless Internet,Air Conditioning,Kitchen,Pet...    56   \n",
       "4     Real Bed  TV,Internet,Wireless Internet,Air Conditioning...   120   \n",
       "5     Real Bed  Internet,Wireless Internet,Air conditioning,Ki...   157   \n",
       "6     Real Bed  TV,Cable TV,Internet,Wireless Internet,Air con...   135   \n",
       "...        ...                                                ...   ...   \n",
       "5547  Real Bed  TV,Cable TV,Internet,Wireless Internet,Air Con...   150   \n",
       "5548  Real Bed  TV,Wireless Internet,Air Conditioning,Free Par...    45   \n",
       "5549  Real Bed  TV,Wireless Internet,Air conditioning,Kitchen,...   129   \n",
       "5550  Real Bed  Wireless Internet,Air conditioning,Kitchen,Fre...    85   \n",
       "5551  Real Bed  TV,Cable TV,Internet,Wireless Internet,Air Con...   250   \n",
       "\n",
       "0    Cancellation Policy Number of Reviews Days Listed Review Scores Location  \\\n",
       "2               moderate                46         714                     10   \n",
       "3               flexible               115         426                      9   \n",
       "4                 strict               113         798                     10   \n",
       "5               flexible                 2           6                      8   \n",
       "6               moderate                30        1226                     10   \n",
       "...                  ...               ...         ...                    ...   \n",
       "5547            moderate                15        1103                     10   \n",
       "5548              strict                 3          17                      9   \n",
       "5549              strict                 3          98                     10   \n",
       "5550            moderate               155        1092                     10   \n",
       "5551     super_strict_30                 1           0                     10   \n",
       "\n",
       "0    Review Scores Value  \n",
       "2                     10  \n",
       "3                     10  \n",
       "4                     10  \n",
       "5                     10  \n",
       "6                      9  \n",
       "...                  ...  \n",
       "5547                  10  \n",
       "5548                  10  \n",
       "5549                  10  \n",
       "5550                  10  \n",
       "5551                  10  \n",
       "\n",
       "[5533 rows x 15 columns]"
      ]
     },
     "execution_count": 284,
     "metadata": {},
     "output_type": "execute_result"
    }
   ],
   "source": [
    "#Less than 1% of Amenities column is null, so dropping null values should not affect data much\n",
    "\n",
    "df.dropna()"
   ]
  },
  {
   "cell_type": "code",
   "execution_count": 285,
   "metadata": {},
   "outputs": [],
   "source": [
    "#Remove zeroes and negative values in Bathroom,bedroom columns\n",
    "df['Bathrooms'] = df['Bathrooms'].replace(['<=0'],'1')\n",
    "df['Bedrooms'] = df['Bedrooms'].replace(['<=0'],'1')\n",
    "df['Beds'] = df['Beds'].replace(['<=0'],'1')\n"
   ]
  },
  {
   "cell_type": "code",
   "execution_count": 286,
   "metadata": {},
   "outputs": [
    {
     "data": {
      "text/html": [
       "<div>\n",
       "<style scoped>\n",
       "    .dataframe tbody tr th:only-of-type {\n",
       "        vertical-align: middle;\n",
       "    }\n",
       "\n",
       "    .dataframe tbody tr th {\n",
       "        vertical-align: top;\n",
       "    }\n",
       "\n",
       "    .dataframe thead th {\n",
       "        text-align: right;\n",
       "    }\n",
       "</style>\n",
       "<table border=\"1\" class=\"dataframe\">\n",
       "  <thead>\n",
       "    <tr style=\"text-align: right;\">\n",
       "      <th></th>\n",
       "      <th>Host ID</th>\n",
       "      <th>City</th>\n",
       "      <th>State</th>\n",
       "      <th>Room Type</th>\n",
       "      <th>Bathrooms</th>\n",
       "      <th>Bedrooms</th>\n",
       "      <th>Beds</th>\n",
       "      <th>Bed Type</th>\n",
       "      <th>Amenities</th>\n",
       "      <th>Price</th>\n",
       "      <th>Cancellation Policy</th>\n",
       "      <th>Number of Reviews</th>\n",
       "      <th>Days Listed</th>\n",
       "      <th>Review Scores Location</th>\n",
       "      <th>Review Scores Value</th>\n",
       "    </tr>\n",
       "  </thead>\n",
       "  <tbody>\n",
       "    <tr>\n",
       "      <th>2</th>\n",
       "      <td>16637009</td>\n",
       "      <td>Chicago</td>\n",
       "      <td>IL</td>\n",
       "      <td>Entire home/apt</td>\n",
       "      <td>1.5</td>\n",
       "      <td>3</td>\n",
       "      <td>3</td>\n",
       "      <td>Real Bed</td>\n",
       "      <td>TV,Cable TV,Internet,Wireless Internet,Air con...</td>\n",
       "      <td>235</td>\n",
       "      <td>moderate</td>\n",
       "      <td>46</td>\n",
       "      <td>714</td>\n",
       "      <td>10</td>\n",
       "      <td>10</td>\n",
       "    </tr>\n",
       "    <tr>\n",
       "      <th>3</th>\n",
       "      <td>31862615</td>\n",
       "      <td>Boston</td>\n",
       "      <td>MA</td>\n",
       "      <td>Shared room</td>\n",
       "      <td>1</td>\n",
       "      <td>1</td>\n",
       "      <td>1</td>\n",
       "      <td>Futon</td>\n",
       "      <td>Wireless Internet,Air Conditioning,Kitchen,Pet...</td>\n",
       "      <td>56</td>\n",
       "      <td>flexible</td>\n",
       "      <td>115</td>\n",
       "      <td>426</td>\n",
       "      <td>9</td>\n",
       "      <td>10</td>\n",
       "    </tr>\n",
       "  </tbody>\n",
       "</table>\n",
       "</div>"
      ],
      "text/plain": [
       "0   Host ID     City State        Room Type Bathrooms Bedrooms Beds  Bed Type  \\\n",
       "2  16637009  Chicago    IL  Entire home/apt       1.5        3    3  Real Bed   \n",
       "3  31862615   Boston    MA      Shared room         1        1    1     Futon   \n",
       "\n",
       "0                                          Amenities Price  \\\n",
       "2  TV,Cable TV,Internet,Wireless Internet,Air con...   235   \n",
       "3  Wireless Internet,Air Conditioning,Kitchen,Pet...    56   \n",
       "\n",
       "0 Cancellation Policy Number of Reviews Days Listed Review Scores Location  \\\n",
       "2            moderate                46         714                     10   \n",
       "3            flexible               115         426                      9   \n",
       "\n",
       "0 Review Scores Value  \n",
       "2                  10  \n",
       "3                  10  "
      ]
     },
     "execution_count": 286,
     "metadata": {},
     "output_type": "execute_result"
    }
   ],
   "source": [
    "df.head(2)"
   ]
  },
  {
   "cell_type": "code",
   "execution_count": 287,
   "metadata": {},
   "outputs": [
    {
     "data": {
      "text/plain": [
       "<AxesSubplot:xlabel='Number of Reviews', ylabel='City'>"
      ]
     },
     "execution_count": 287,
     "metadata": {},
     "output_type": "execute_result"
    },
    {
     "data": {
      "image/png": "[encoded data removed]",
      "text/plain": [
       "<Figure size 432x288 with 1 Axes>"
      ]
     },
     "metadata": {
      "needs_background": "light"
     },
     "output_type": "display_data"
    }
   ],
   "source": [
    "#Comparing Review Score with Location\n",
    "\n",
    "sns.barplot(x=df[\"Number of Reviews\"],y=df[\"City\"])"
   ]
  },
  {
   "cell_type": "code",
   "execution_count": 288,
   "metadata": {},
   "outputs": [
    {
     "data": {
      "text/plain": [
       "<bound method NDFrame._add_numeric_operations.<locals>.mean of 2       235\n",
       "3        56\n",
       "4       120\n",
       "5       157\n",
       "6       135\n",
       "       ... \n",
       "5547    150\n",
       "5548     45\n",
       "5549    129\n",
       "5550     85\n",
       "5551    250\n",
       "Name: Price, Length: 5550, dtype: object>"
      ]
     },
     "execution_count": 288,
     "metadata": {},
     "output_type": "execute_result"
    }
   ],
   "source": [
    "price_mean =df[\"Price\"].mean\n",
    "price_mean"
   ]
  },
  {
   "cell_type": "code",
   "execution_count": 289,
   "metadata": {},
   "outputs": [
    {
     "data": {
      "image/png": "[encoded data removed]",
      "text/plain": [
       "<Figure size 432x288 with 1 Axes>"
      ]
     },
     "metadata": {
      "needs_background": "light"
     },
     "output_type": "display_data"
    }
   ],
   "source": [
    "#Average price per City\n",
    "\n",
    "cityprice = sns.barplot(x=df[\"City\"],y=df[\"Price\"]).tick_params(labelrotation=90)\n",
    "\n",
    "#Austin has the highest listing prices\n"
   ]
  },
  {
   "cell_type": "code",
   "execution_count": 290,
   "metadata": {},
   "outputs": [
    {
     "data": {
      "text/plain": [
       "5"
      ]
     },
     "execution_count": 290,
     "metadata": {},
     "output_type": "execute_result"
    }
   ],
   "source": [
    "df[\"Cancellation Policy\"].nunique()"
   ]
  },
  {
   "cell_type": "code",
   "execution_count": 291,
   "metadata": {},
   "outputs": [
    {
     "data": {
      "text/plain": [
       "strict             2578\n",
       "moderate           1755\n",
       "flexible           1191\n",
       "super_strict_30      16\n",
       "super_strict_60      10\n",
       "Name: Cancellation Policy, dtype: int64"
      ]
     },
     "execution_count": 291,
     "metadata": {},
     "output_type": "execute_result"
    }
   ],
   "source": [
    "df[\"Cancellation Policy\"].value_counts()"
   ]
  },
  {
   "cell_type": "code",
   "execution_count": 292,
   "metadata": {},
   "outputs": [],
   "source": [
    "df['Cancellation Policy'].replace(['super_strict_30','super_strict_60'],['Super Strict','Super Strict'],inplace=True)"
   ]
  },
  {
   "cell_type": "code",
   "execution_count": 293,
   "metadata": {},
   "outputs": [
    {
     "data": {
      "text/plain": [
       "strict          2578\n",
       "moderate        1755\n",
       "flexible        1191\n",
       "Super Strict      26\n",
       "Name: Cancellation Policy, dtype: int64"
      ]
     },
     "execution_count": 293,
     "metadata": {},
     "output_type": "execute_result"
    }
   ],
   "source": [
    "df[\"Cancellation Policy\"].value_counts()"
   ]
  },
  {
   "cell_type": "code",
   "execution_count": 294,
   "metadata": {},
   "outputs": [],
   "source": [
    "df['Cancellation Policy'].replace(['Super Strict','strict','moderate','flexible'],['4','3','2','1'],inplace=True)"
   ]
  },
  {
   "cell_type": "code",
   "execution_count": 295,
   "metadata": {},
   "outputs": [
    {
     "data": {
      "text/plain": [
       "0\n",
       "Host ID                   object\n",
       "City                      object\n",
       "State                     object\n",
       "Room Type                 object\n",
       "Bathrooms                 object\n",
       "Bedrooms                  object\n",
       "Beds                      object\n",
       "Bed Type                  object\n",
       "Amenities                 object\n",
       "Price                     object\n",
       "Cancellation Policy       object\n",
       "Number of Reviews         object\n",
       "Days Listed               object\n",
       "Review Scores Location    object\n",
       "Review Scores Value       object\n",
       "dtype: object"
      ]
     },
     "execution_count": 295,
     "metadata": {},
     "output_type": "execute_result"
    }
   ],
   "source": [
    "df.dtypes"
   ]
  },
  {
   "cell_type": "code",
   "execution_count": 296,
   "metadata": {},
   "outputs": [],
   "source": [
    "#Change Cancelation policy to numeric value\n",
    "\n",
    "df['Cancellation Policy'] = df['Cancellation Policy'].astype('int')"
   ]
  },
  {
   "cell_type": "code",
   "execution_count": 297,
   "metadata": {},
   "outputs": [
    {
     "data": {
      "text/plain": [
       "0\n",
       "Host ID                   object\n",
       "City                      object\n",
       "State                     object\n",
       "Room Type                 object\n",
       "Bathrooms                 object\n",
       "Bedrooms                  object\n",
       "Beds                      object\n",
       "Bed Type                  object\n",
       "Amenities                 object\n",
       "Price                     object\n",
       "Cancellation Policy        int32\n",
       "Number of Reviews         object\n",
       "Days Listed               object\n",
       "Review Scores Location    object\n",
       "Review Scores Value       object\n",
       "dtype: object"
      ]
     },
     "execution_count": 297,
     "metadata": {},
     "output_type": "execute_result"
    }
   ],
   "source": [
    "df.dtypes"
   ]
  },
  {
   "cell_type": "code",
   "execution_count": 298,
   "metadata": {},
   "outputs": [
    {
     "data": {
      "image/png": "[encoded data removed]",
      "text/plain": [
       "<Figure size 432x288 with 1 Axes>"
      ]
     },
     "metadata": {
      "needs_background": "light"
     },
     "output_type": "display_data"
    }
   ],
   "source": [
    "#Now we can plot cancellation policy by city\n",
    "\n",
    "sns.barplot(x=df['City'],y=df['Cancellation Policy']).tick_params(labelrotation=90)\n",
    "\n",
    "#New Orleans has the strictest canelation policy"
   ]
  },
  {
   "cell_type": "code",
   "execution_count": 299,
   "metadata": {},
   "outputs": [
    {
     "data": {
      "text/html": [
       "<div>\n",
       "<style scoped>\n",
       "    .dataframe tbody tr th:only-of-type {\n",
       "        vertical-align: middle;\n",
       "    }\n",
       "\n",
       "    .dataframe tbody tr th {\n",
       "        vertical-align: top;\n",
       "    }\n",
       "\n",
       "    .dataframe thead th {\n",
       "        text-align: right;\n",
       "    }\n",
       "</style>\n",
       "<table border=\"1\" class=\"dataframe\">\n",
       "  <thead>\n",
       "    <tr style=\"text-align: right;\">\n",
       "      <th></th>\n",
       "      <th>Host ID</th>\n",
       "      <th>City</th>\n",
       "      <th>State</th>\n",
       "      <th>Room Type</th>\n",
       "      <th>Bathrooms</th>\n",
       "      <th>Bedrooms</th>\n",
       "      <th>Beds</th>\n",
       "      <th>Bed Type</th>\n",
       "      <th>Amenities</th>\n",
       "      <th>Price</th>\n",
       "      <th>Cancellation Policy</th>\n",
       "      <th>Number of Reviews</th>\n",
       "      <th>Days Listed</th>\n",
       "      <th>Review Scores Location</th>\n",
       "      <th>Review Scores Value</th>\n",
       "    </tr>\n",
       "  </thead>\n",
       "  <tbody>\n",
       "    <tr>\n",
       "      <th>2</th>\n",
       "      <td>16637009</td>\n",
       "      <td>Chicago</td>\n",
       "      <td>IL</td>\n",
       "      <td>Entire home/apt</td>\n",
       "      <td>1.5</td>\n",
       "      <td>3</td>\n",
       "      <td>3</td>\n",
       "      <td>Real Bed</td>\n",
       "      <td>TV,Cable TV,Internet,Wireless Internet,Air con...</td>\n",
       "      <td>235</td>\n",
       "      <td>2</td>\n",
       "      <td>46</td>\n",
       "      <td>714</td>\n",
       "      <td>10</td>\n",
       "      <td>10</td>\n",
       "    </tr>\n",
       "    <tr>\n",
       "      <th>3</th>\n",
       "      <td>31862615</td>\n",
       "      <td>Boston</td>\n",
       "      <td>MA</td>\n",
       "      <td>Shared room</td>\n",
       "      <td>1</td>\n",
       "      <td>1</td>\n",
       "      <td>1</td>\n",
       "      <td>Futon</td>\n",
       "      <td>Wireless Internet,Air Conditioning,Kitchen,Pet...</td>\n",
       "      <td>56</td>\n",
       "      <td>1</td>\n",
       "      <td>115</td>\n",
       "      <td>426</td>\n",
       "      <td>9</td>\n",
       "      <td>10</td>\n",
       "    </tr>\n",
       "  </tbody>\n",
       "</table>\n",
       "</div>"
      ],
      "text/plain": [
       "0   Host ID     City State        Room Type Bathrooms Bedrooms Beds  Bed Type  \\\n",
       "2  16637009  Chicago    IL  Entire home/apt       1.5        3    3  Real Bed   \n",
       "3  31862615   Boston    MA      Shared room         1        1    1     Futon   \n",
       "\n",
       "0                                          Amenities Price  \\\n",
       "2  TV,Cable TV,Internet,Wireless Internet,Air con...   235   \n",
       "3  Wireless Internet,Air Conditioning,Kitchen,Pet...    56   \n",
       "\n",
       "0  Cancellation Policy Number of Reviews Days Listed Review Scores Location  \\\n",
       "2                    2                46         714                     10   \n",
       "3                    1               115         426                      9   \n",
       "\n",
       "0 Review Scores Value  \n",
       "2                  10  \n",
       "3                  10  "
      ]
     },
     "execution_count": 299,
     "metadata": {},
     "output_type": "execute_result"
    }
   ],
   "source": [
    "df.head(2)"
   ]
  },
  {
   "cell_type": "code",
   "execution_count": 300,
   "metadata": {},
   "outputs": [],
   "source": [
    "df_update = pd.read_excel(r\"C:\\Users\\stefa\\OneDrive\\Documents\\Pathstream Data Analytics Professional Certificate\\Business Analytics Fundamentals\\Listings123_Full_Edit.xlsx\")"
   ]
  },
  {
   "cell_type": "code",
   "execution_count": 301,
   "metadata": {},
   "outputs": [
    {
     "data": {
      "text/html": [
       "<div>\n",
       "<style scoped>\n",
       "    .dataframe tbody tr th:only-of-type {\n",
       "        vertical-align: middle;\n",
       "    }\n",
       "\n",
       "    .dataframe tbody tr th {\n",
       "        vertical-align: top;\n",
       "    }\n",
       "\n",
       "    .dataframe thead th {\n",
       "        text-align: right;\n",
       "    }\n",
       "</style>\n",
       "<table border=\"1\" class=\"dataframe\">\n",
       "  <thead>\n",
       "    <tr style=\"text-align: right;\">\n",
       "      <th></th>\n",
       "      <th>Host ID</th>\n",
       "      <th>City</th>\n",
       "      <th>State</th>\n",
       "      <th>Room Type</th>\n",
       "      <th>Bathrooms</th>\n",
       "      <th>Bedrooms</th>\n",
       "      <th>Beds</th>\n",
       "      <th>Bed Type</th>\n",
       "      <th>Amenities</th>\n",
       "      <th>Price</th>\n",
       "      <th>TV</th>\n",
       "      <th>Internet</th>\n",
       "      <th>Family/kid friendly</th>\n",
       "      <th>Other</th>\n",
       "      <th>Cancellation Policy</th>\n",
       "      <th>Number of Reviews</th>\n",
       "      <th>Days Listed</th>\n",
       "      <th>Review Scores Location</th>\n",
       "      <th>Review Scores Value</th>\n",
       "    </tr>\n",
       "  </thead>\n",
       "  <tbody>\n",
       "    <tr>\n",
       "      <th>0</th>\n",
       "      <td>16637009</td>\n",
       "      <td>Chicago</td>\n",
       "      <td>IL</td>\n",
       "      <td>Entire home/apt</td>\n",
       "      <td>1.5</td>\n",
       "      <td>3</td>\n",
       "      <td>3</td>\n",
       "      <td>Real Bed</td>\n",
       "      <td>TV,Internet</td>\n",
       "      <td>235</td>\n",
       "      <td>True</td>\n",
       "      <td>True</td>\n",
       "      <td>False</td>\n",
       "      <td>False</td>\n",
       "      <td>moderate</td>\n",
       "      <td>46</td>\n",
       "      <td>714</td>\n",
       "      <td>10</td>\n",
       "      <td>10</td>\n",
       "    </tr>\n",
       "    <tr>\n",
       "      <th>1</th>\n",
       "      <td>31862615</td>\n",
       "      <td>Boston</td>\n",
       "      <td>MA</td>\n",
       "      <td>Shared room</td>\n",
       "      <td>1</td>\n",
       "      <td>1</td>\n",
       "      <td>1</td>\n",
       "      <td>Futon</td>\n",
       "      <td>Internet,Other</td>\n",
       "      <td>56</td>\n",
       "      <td>False</td>\n",
       "      <td>True</td>\n",
       "      <td>False</td>\n",
       "      <td>True</td>\n",
       "      <td>flexible</td>\n",
       "      <td>115</td>\n",
       "      <td>426</td>\n",
       "      <td>9</td>\n",
       "      <td>10</td>\n",
       "    </tr>\n",
       "  </tbody>\n",
       "</table>\n",
       "</div>"
      ],
      "text/plain": [
       "    Host ID     City State        Room Type Bathrooms Bedrooms Beds  Bed Type  \\\n",
       "0  16637009  Chicago    IL  Entire home/apt       1.5        3    3  Real Bed   \n",
       "1  31862615   Boston    MA      Shared room         1        1    1     Futon   \n",
       "\n",
       "        Amenities  Price     TV  Internet  Family/kid friendly  Other  \\\n",
       "0     TV,Internet    235   True      True                False  False   \n",
       "1  Internet,Other     56  False      True                False   True   \n",
       "\n",
       "  Cancellation Policy  Number of Reviews  Days Listed Review Scores Location  \\\n",
       "0            moderate                 46          714                     10   \n",
       "1            flexible                115          426                      9   \n",
       "\n",
       "   Review Scores Value  \n",
       "0                   10  \n",
       "1                   10  "
      ]
     },
     "execution_count": 301,
     "metadata": {},
     "output_type": "execute_result"
    }
   ],
   "source": [
    "df_update.head(2)"
   ]
  },
  {
   "cell_type": "code",
   "execution_count": 302,
   "metadata": {},
   "outputs": [
    {
     "data": {
      "text/plain": [
       "<bound method IndexOpsMixin.value_counts of 0       10\n",
       "1        9\n",
       "2       10\n",
       "3        8\n",
       "4       10\n",
       "        ..\n",
       "5529     9\n",
       "5530    10\n",
       "5531    10\n",
       "5532    10\n",
       "5533    10\n",
       "Name: Review Scores Location, Length: 5534, dtype: object>"
      ]
     },
     "execution_count": 302,
     "metadata": {},
     "output_type": "execute_result"
    }
   ],
   "source": [
    "df_update['Review Scores Location'].value_counts"
   ]
  },
  {
   "cell_type": "code",
   "execution_count": 303,
   "metadata": {},
   "outputs": [],
   "source": [
    "#Replace True/False\n",
    "df_update = df_update.replace({True:1, False:0})"
   ]
  },
  {
   "cell_type": "code",
   "execution_count": 304,
   "metadata": {},
   "outputs": [
    {
     "data": {
      "text/plain": [
       "Host ID                    int64\n",
       "City                      object\n",
       "State                     object\n",
       "Room Type                 object\n",
       "Bathrooms                 object\n",
       "Bedrooms                  object\n",
       "Beds                      object\n",
       "Bed Type                  object\n",
       "Amenities                 object\n",
       "Price                      int64\n",
       "TV                         int64\n",
       "Internet                   int64\n",
       "Family/kid friendly        int64\n",
       "Other                      int64\n",
       "Cancellation Policy       object\n",
       "Number of Reviews          int64\n",
       "Days Listed                int64\n",
       "Review Scores Location    object\n",
       "Review Scores Value        int64\n",
       "dtype: object"
      ]
     },
     "execution_count": 304,
     "metadata": {},
     "output_type": "execute_result"
    }
   ],
   "source": [
    "df_update.dtypes"
   ]
  },
  {
   "cell_type": "code",
   "execution_count": 305,
   "metadata": {},
   "outputs": [
    {
     "data": {
      "text/html": [
       "<div>\n",
       "<style scoped>\n",
       "    .dataframe tbody tr th:only-of-type {\n",
       "        vertical-align: middle;\n",
       "    }\n",
       "\n",
       "    .dataframe tbody tr th {\n",
       "        vertical-align: top;\n",
       "    }\n",
       "\n",
       "    .dataframe thead th {\n",
       "        text-align: right;\n",
       "    }\n",
       "</style>\n",
       "<table border=\"1\" class=\"dataframe\">\n",
       "  <thead>\n",
       "    <tr style=\"text-align: right;\">\n",
       "      <th></th>\n",
       "      <th>Host ID</th>\n",
       "      <th>City</th>\n",
       "      <th>State</th>\n",
       "      <th>Room Type</th>\n",
       "      <th>Bathrooms</th>\n",
       "      <th>Bedrooms</th>\n",
       "      <th>Beds</th>\n",
       "      <th>Bed Type</th>\n",
       "      <th>Amenities</th>\n",
       "      <th>Price</th>\n",
       "      <th>TV</th>\n",
       "      <th>Internet</th>\n",
       "      <th>Family/kid friendly</th>\n",
       "      <th>Other</th>\n",
       "      <th>Cancellation Policy</th>\n",
       "      <th>Number of Reviews</th>\n",
       "      <th>Days Listed</th>\n",
       "      <th>Review Scores Location</th>\n",
       "      <th>Review Scores Value</th>\n",
       "    </tr>\n",
       "  </thead>\n",
       "  <tbody>\n",
       "    <tr>\n",
       "      <th>0</th>\n",
       "      <td>16637009</td>\n",
       "      <td>Chicago</td>\n",
       "      <td>IL</td>\n",
       "      <td>Entire home/apt</td>\n",
       "      <td>1.5</td>\n",
       "      <td>3</td>\n",
       "      <td>3</td>\n",
       "      <td>Real Bed</td>\n",
       "      <td>TV,Internet</td>\n",
       "      <td>235</td>\n",
       "      <td>1</td>\n",
       "      <td>1</td>\n",
       "      <td>0</td>\n",
       "      <td>0</td>\n",
       "      <td>moderate</td>\n",
       "      <td>46</td>\n",
       "      <td>714</td>\n",
       "      <td>10</td>\n",
       "      <td>10</td>\n",
       "    </tr>\n",
       "    <tr>\n",
       "      <th>1</th>\n",
       "      <td>31862615</td>\n",
       "      <td>Boston</td>\n",
       "      <td>MA</td>\n",
       "      <td>Shared room</td>\n",
       "      <td>1</td>\n",
       "      <td>1</td>\n",
       "      <td>1</td>\n",
       "      <td>Futon</td>\n",
       "      <td>Internet,Other</td>\n",
       "      <td>56</td>\n",
       "      <td>0</td>\n",
       "      <td>1</td>\n",
       "      <td>0</td>\n",
       "      <td>1</td>\n",
       "      <td>flexible</td>\n",
       "      <td>115</td>\n",
       "      <td>426</td>\n",
       "      <td>9</td>\n",
       "      <td>10</td>\n",
       "    </tr>\n",
       "  </tbody>\n",
       "</table>\n",
       "</div>"
      ],
      "text/plain": [
       "    Host ID     City State        Room Type Bathrooms Bedrooms Beds  Bed Type  \\\n",
       "0  16637009  Chicago    IL  Entire home/apt       1.5        3    3  Real Bed   \n",
       "1  31862615   Boston    MA      Shared room         1        1    1     Futon   \n",
       "\n",
       "        Amenities  Price  TV  Internet  Family/kid friendly  Other  \\\n",
       "0     TV,Internet    235   1         1                    0      0   \n",
       "1  Internet,Other     56   0         1                    0      1   \n",
       "\n",
       "  Cancellation Policy  Number of Reviews  Days Listed Review Scores Location  \\\n",
       "0            moderate                 46          714                     10   \n",
       "1            flexible                115          426                      9   \n",
       "\n",
       "   Review Scores Value  \n",
       "0                   10  \n",
       "1                   10  "
      ]
     },
     "execution_count": 305,
     "metadata": {},
     "output_type": "execute_result"
    }
   ],
   "source": [
    "df_update.head(2)"
   ]
  },
  {
   "cell_type": "code",
   "execution_count": 306,
   "metadata": {},
   "outputs": [
    {
     "name": "stderr",
     "output_type": "stream",
     "text": [
      "c:\\Users\\stefa\\anaconda3\\lib\\site-packages\\seaborn\\_decorators.py:36: FutureWarning: Pass the following variable as a keyword arg: x. From version 0.12, the only valid positional argument will be `data`, and passing other arguments without an explicit keyword will result in an error or misinterpretation.\n",
      "  warnings.warn(\n"
     ]
    },
    {
     "data": {
      "image/png": "[encoded data removed]",
      "text/plain": [
       "<Figure size 432x288 with 1 Axes>"
      ]
     },
     "metadata": {
      "needs_background": "light"
     },
     "output_type": "display_data"
    }
   ],
   "source": [
    "#Number of Amenities\n",
    "\n",
    "sns.countplot(df_update['Amenities']).tick_params(labelrotation=90)"
   ]
  },
  {
   "cell_type": "code",
   "execution_count": 307,
   "metadata": {},
   "outputs": [
    {
     "data": {
      "image/png": "[encoded data removed]",
      "text/plain": [
       "<Figure size 432x288 with 1 Axes>"
      ]
     },
     "metadata": {
      "needs_background": "light"
     },
     "output_type": "display_data"
    }
   ],
   "source": [
    "#Compare Amenties with Days Listed\n",
    "\n",
    "sns.barplot(x=df_update['Amenities'],y=df['Days Listed']).tick_params(labelrotation=90)"
   ]
  },
  {
   "cell_type": "code",
   "execution_count": 308,
   "metadata": {},
   "outputs": [
    {
     "data": {
      "image/png": "[encoded data removed]",
      "text/plain": [
       "<Figure size 432x288 with 1 Axes>"
      ]
     },
     "metadata": {
      "needs_background": "light"
     },
     "output_type": "display_data"
    }
   ],
   "source": [
    "#Amenities and Price\n",
    "\n",
    "sns.barplot(x=df_update['Amenities'],y=df_update['Price']).tick_params(labelrotation=90)"
   ]
  },
  {
   "cell_type": "code",
   "execution_count": 311,
   "metadata": {},
   "outputs": [
    {
     "data": {
      "text/plain": [
       "<AxesSubplot:xlabel='Review Scores Value', ylabel='Count'>"
      ]
     },
     "execution_count": 311,
     "metadata": {},
     "output_type": "execute_result"
    },
    {
     "data": {
      "image/png": "[encoded data removed]",
      "text/plain": [
       "<Figure size 432x288 with 1 Axes>"
      ]
     },
     "metadata": {
      "needs_background": "light"
     },
     "output_type": "display_data"
    }
   ],
   "source": [
    "sns.histplot(df_update['Review Scores Value'],bins=10)"
   ]
  },
  {
   "cell_type": "code",
   "execution_count": 318,
   "metadata": {},
   "outputs": [
    {
     "data": {
      "text/plain": [
       "<bound method _AxesBase.tick_params of <AxesSubplot:xlabel='Review Scores Value', ylabel='City'>>"
      ]
     },
     "execution_count": 318,
     "metadata": {},
     "output_type": "execute_result"
    },
    {
     "data": {
      "image/png": "[encoded data removed]",
      "text/plain": [
       "<Figure size 432x288 with 1 Axes>"
      ]
     },
     "metadata": {
      "needs_background": "light"
     },
     "output_type": "display_data"
    }
   ],
   "source": [
    "sns.barplot(x=df_update['Review Scores Value'],y=df_update['City']).tick_params"
   ]
  },
  {
   "cell_type": "code",
   "execution_count": null,
   "metadata": {},
   "outputs": [],
   "source": []
  }
 ],
 "metadata": {
  "kernelspec": {
   "display_name": "Python 3 (ipykernel)",
   "language": "python",
   "name": "python3"
  },
  "language_info": {
   "codemirror_mode": {
    "name": "ipython",
    "version": 3
   },
   "file_extension": ".py",
   "mimetype": "text/x-python",
   "name": "python",
   "nbconvert_exporter": "python",
   "pygments_lexer": "ipython3",
   "version": "3.9.7"
  },
  "vscode": {
   "interpreter": {
    "hash": "4f523f7c76dd18e7ed336217f32f6f704c23c323644912475b9d3570cf04b060"
   }
  }
 },
 "nbformat": 4,
 "nbformat_minor": 2
}
